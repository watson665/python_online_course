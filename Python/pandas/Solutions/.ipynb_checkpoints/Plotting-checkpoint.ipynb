{
 "cells": [
  {
   "cell_type": "markdown",
   "metadata": {},
   "source": [
    "# Plotting"
   ]
  },
  {
   "cell_type": "markdown",
   "metadata": {},
   "source": [
    "## Setup"
   ]
  },
  {
   "cell_type": "code",
   "execution_count": null,
   "metadata": {},
   "outputs": [],
   "source": [
    "%matplotlib inline\n",
    "\n",
    "import sqlite3\n",
    "import numpy as np\n",
    "import pandas as pd\n",
    "pd.set_option('display.max_columns', 10)\n",
    "pd.set_option('display.max_rows', 10)"
   ]
  },
  {
   "cell_type": "markdown",
   "metadata": {},
   "source": [
    "## Create DataFrame from SQL Query"
   ]
  },
  {
   "cell_type": "code",
   "execution_count": null,
   "metadata": {},
   "outputs": [],
   "source": [
    "connection = sqlite3.connect('../lahman2014.sqlite')\n",
    "\n",
    "query = """SELECT CAST(strftime('%Y', debut / 1000, 'unixepoch') as decimal)  year, avg(weight) weight\n",
    "FROM master\n",
    "WHERE debut is NOT NULL\n",
    "GROUP BY year\n",
    "ORDER BY year"""\n",
    "\n",
    "df = pd.read_sql_query(query, connection, coerce_float=True, index_col=\"year\")"
   ]
  },
  {
   "cell_type": "markdown",
   "metadata": {},
   "source": [
    "## Create Plot"
   ]
  },
  {
   "cell_type": "code",
   "execution_count": null,
   "metadata": {
    "scrolled": true
   },
   "outputs": [],
   "source": [
    "plot = df.plot(title = \"Baseball: Player Weight Over the Years\",\n",
    "               figsize=(12,6), lw = 3)\n",
    "\n",
    "plot.set_ylabel('Weight (lb.)', fontsize=20)\n",
    "plot.set_xlabel('Year', fontsize=20)\n",
    "plot.grid(True) \n",
    "\n",
    "plot.legend(['Weight'], loc=\"upper left\", fontsize='xx-large')\n",
    "\n",
    "plot.annotate(\n",
    "        s = 'Steroids Era Ends', \n",
    "        xy = (2010, 211), \n",
    "        xytext = (1990, 205),\n",
    "        ha = 'right', va = 'bottom', fontsize=16,\n",
    "        bbox = dict(boxstyle = 'round,pad=0.5', fc = 'white', alpha = 1),\n",
    "        arrowprops = dict(arrowstyle = '->', connectionstyle = 'arc3,rad=-.2', color = 'black')\n",
    ");"
   ]
  }
 ],
 "metadata": {
  "kernelspec": {
   "display_name": "Python 3",
   "language": "python",
   "name": "python3"
  },
  "language_info": {
   "codemirror_mode": {
    "name": "ipython",
    "version": 3
   },
   "file_extension": ".py",
   "mimetype": "text/x-python",
   "name": "python",
   "nbconvert_exporter": "python",
   "pygments_lexer": "ipython3",
   "version": "3.6.3"
  }
 },
 "nbformat": 4,
 "nbformat_minor": 1
}
