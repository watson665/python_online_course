{
 "cells": [
  {
   "cell_type": "markdown",
   "metadata": {},
   "source": [
    "# Plotting with matplotlib"
   ]
  },
  {
   "cell_type": "markdown",
   "metadata": {},
   "source": [
    "### Setup"
   ]
  },
  {
   "cell_type": "code",
   "execution_count": null,
   "metadata": {
    "collapsed": true
   },
   "outputs": [],
   "source": [
    "%matplotlib inline\n",
    "import numpy as np\n",
    "import pandas as pd\n",
    "\n",
    "pd.set_option('display.max_columns', 10)\n",
    "pd.set_option('display.max_rows', 10)"
   ]
  },
  {
   "cell_type": "markdown",
   "metadata": {},
   "source": [
    "### Getting the pop2014 DataFrame"
   ]
  },
  {
   "cell_type": "code",
   "execution_count": null,
   "metadata": {},
   "outputs": [],
   "source": [
    "csv ='../csvs/us-population-2010-2014.csv'\n",
    "pops = pd.read_csv(csv, usecols=[0,1,5,6], thousands=',')\n",
    "males = pops[pops.SEX == 'M'].POPESTIMATE2014\n",
    "females = pops[pops.SEX == 'F'].POPESTIMATE2014\n",
    "\n",
    "#Make sure Series are alignable\n",
    "males.index = np.arange(0,len(males))\n",
    "females.index = np.arange(0,len(females))\n",
    "\n",
    "pop2014 = pd.concat([males, females], axis=1)\n",
    "pop2014.columns = ['Males','Females']\n",
    "pop2014['All'] = pop2014.Males + pop2014.Females\n",
    "pop2014"
   ]
  },
  {
   "cell_type": "code",
   "execution_count": null,
   "metadata": {},
   "outputs": [],
   "source": [
    "plot = pop2014.plot()\n",
    "plot.grid(True)"
   ]
  },
  {
   "cell_type": "markdown",
   "metadata": {},
   "source": [
    "#### Function to convert integer into comma-separated string"
   ]
  },
  {
   "cell_type": "code",
   "execution_count": null,
   "metadata": {
    "collapsed": true
   },
   "outputs": [],
   "source": [
    "def comma(num):\n",
    "    return \"{:,}\".format(num)"
   ]
  },
  {
   "cell_type": "markdown",
   "metadata": {},
   "source": [
    "### Create a Line Plot"
   ]
  },
  {
   "cell_type": "code",
   "execution_count": null,
   "metadata": {},
   "outputs": [],
   "source": [
    "plt_pop2014 = pop2014.plot(title = \"Population by Age: 2014\",\n",
    "                           style=['b--', 'm^', 'k-'],\n",
    "                           figsize=(12,6),\n",
    "                           lw = 3) \n",
    "\n",
    "plt_pop2014.set_xlabel('Age')\n",
    "plt_pop2014.set_ylabel('Population')\n",
    "plt_pop2014.legend(['M','F','A'], loc=\"lower left\")\n",
    "plt_pop2014.set_xticks(np.arange(0,101,10))\n",
    "plt_pop2014.grid(True)\n",
    "\n",
    "yticks = np.arange(500000,5000001,500000)\n",
    "ytick_labels = pd.Series(yticks).apply(comma)\n",
    "\n",
    "plt_pop2014.set_yticks(yticks)\n",
    "plt_pop2014.set_yticklabels(ytick_labels);"
   ]
  },
  {
   "cell_type": "markdown",
   "metadata": {},
   "source": [
    "### Create a Bar Plot"
   ]
  },
  {
   "cell_type": "code",
   "execution_count": null,
   "metadata": {
    "collapsed": true
   },
   "outputs": [],
   "source": [
    "csv ='../csvs/mantle.csv'\n",
    "mantle = pd.read_csv(csv, index_col='Year', usecols=[0,7,8,9])"
   ]
  },
  {
   "cell_type": "code",
   "execution_count": null,
   "metadata": {
    "scrolled": true
   },
   "outputs": [],
   "source": [
    "plt_mantle = mantle.plot(kind='bar',\n",
    "                         title = 'Mickey Mantle: Doubles, Triples, and Home Runs',\n",
    "                         figsize=(12,6),\n",
    "                         width=.8,\n",
    "                         fontsize=16)\n",
    "\n",
    "plt_mantle.set_ylabel('Number', fontsize=20)\n",
    "plt_mantle.set_xlabel('Year', fontsize=20)\n",
    "plt_mantle.grid(True)\n",
    "\n",
    "bars = plt_mantle.patches\n",
    "\n",
    "for i in np.arange(0,18):\n",
    "    bars[i].set_hatch('-')\n",
    "for i in np.arange(18,36):\n",
    "    bars[i].set_hatch('o')\n",
    "for i in np.arange(36,54):\n",
    "    bars[i].set_hatch('/')\n",
    "    \n",
    "plt_mantle.legend(['Doubles','Triples','Home Runs'],\n",
    "                  loc=\"upper right\", fontsize='xx-large');"
   ]
  }
 ],
 "metadata": {
  "kernelspec": {
   "display_name": "Python 3",
   "language": "python",
   "name": "python3"
  },
  "language_info": {
   "codemirror_mode": {
    "name": "ipython",
    "version": 3
   },
   "file_extension": ".py",
   "mimetype": "text/x-python",
   "name": "python",
   "nbconvert_exporter": "python",
   "pygments_lexer": "ipython3",
   "version": "3.6.3"
  }
 },
 "nbformat": 4,
 "nbformat_minor": 1
}
